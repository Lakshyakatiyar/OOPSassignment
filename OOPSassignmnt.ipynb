{
 "cells": [
  {
   "cell_type": "code",
   "execution_count": 1,
   "id": "e7f9f1d3-f90a-4929-a885-7224ae1fe963",
   "metadata": {},
   "outputs": [],
   "source": [
    "#Data abstraction is one of the most essential and important features of object-oriented programming.\n",
    "#Abstraction means displaying only essential information and hiding the details. \n",
    "#Data abstraction refers to providing only essential information about the data to the outside world, hiding the background details or implementation. "
   ]
  },
  {
   "cell_type": "code",
   "execution_count": 2,
   "id": "ad4aa5d1-471d-4a6e-aa2e-1f08e8b4fba0",
   "metadata": {},
   "outputs": [],
   "source": [
    "#Abstraction is a process of hiding the implementation details of a system from the user, and only the functional details will be available to the user end.\n",
    "#On the other hand,\n",
    "#Encapsulation is a method of wrapping up the data and code acting on the data into a single unit."
   ]
  },
  {
   "cell_type": "code",
   "execution_count": 3,
   "id": "3e943070-349c-4295-b587-7d56fb8179dd",
   "metadata": {},
   "outputs": [
    {
     "name": "stdout",
     "output_type": "stream",
     "text": [
      "True\n"
     ]
    }
   ],
   "source": [
    "#The main goal of the abstract base class is to provide a standardized way to test whether an object adheres to a given specification. \n",
    "#It can also prevent any attempt to instantiate a subclass that doesn’t override a particular method in the superclass.\n",
    "#And finally, using an abstract class, a class can derive identity from another class without any object inheritance.\n",
    "import abc\n",
    "\n",
    "\n",
    "class AbstractClass(metaclass=abc.ABCMeta):\n",
    "\tdef abstractfunc(self):\n",
    "\t\treturn None\n",
    "\n",
    "\n",
    "AbstractClass.register(dict)\n",
    "print(issubclass(dict, AbstractClass))\n"
   ]
  },
  {
   "cell_type": "code",
   "execution_count": null,
   "id": "665f95f8-e1e7-4e2b-a492-6cd399637feb",
   "metadata": {},
   "outputs": [],
   "source": [
    "Data abstraction is a method where essential elements are displayed to the user and trivial elements are kept hidden.\n",
    "abstraction is achieved by using the abstract keyword for classes and interfaces. In abstract classes, we can have abstract methods as well as concrete methods."
   ]
  }
 ],
 "metadata": {
  "kernelspec": {
   "display_name": "Python 3 (ipykernel)",
   "language": "python",
   "name": "python3"
  },
  "language_info": {
   "codemirror_mode": {
    "name": "ipython",
    "version": 3
   },
   "file_extension": ".py",
   "mimetype": "text/x-python",
   "name": "python",
   "nbconvert_exporter": "python",
   "pygments_lexer": "ipython3",
   "version": "3.10.8"
  }
 },
 "nbformat": 4,
 "nbformat_minor": 5
}
